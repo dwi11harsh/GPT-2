{
  "nbformat": 4,
  "nbformat_minor": 0,
  "metadata": {
    "colab": {
      "provenance": []
    },
    "kernelspec": {
      "name": "python3",
      "display_name": "Python 3"
    },
    "language_info": {
      "name": "python"
    }
  },
  "cells": [
    {
      "cell_type": "code",
      "source": [
        "import torch\n",
        "import torch.nn as nn\n",
        "from torch.nn import functional as F"
      ],
      "metadata": {
        "id": "gvC60nuQenLw"
      },
      "execution_count": 1,
      "outputs": []
    },
    {
      "cell_type": "code",
      "source": [
        "# hyperparameters\n",
        "batch_size = 16 # how many independent sequences will we process in parallel?\n",
        "block_size = 32 # what is the maximum context length for predictions?\n",
        "max_iters = 7000\n",
        "eval_interval = 100\n",
        "learning_rate = 1e-3\n",
        "device = 'cuda' if torch.cuda.is_available() else 'cpu'\n",
        "eval_iters = 200\n",
        "n_embd = 64\n",
        "n_head = 4\n",
        "n_layer = 4\n",
        "dropout = 0.0\n",
        "# ------------\n"
      ],
      "metadata": {
        "id": "2Z1HIgE3IvDi"
      },
      "execution_count": 21,
      "outputs": []
    },
    {
      "cell_type": "code",
      "source": [
        "torch.manual_seed(1337)"
      ],
      "metadata": {
        "colab": {
          "base_uri": "https://localhost:8080/"
        },
        "id": "ichvu4cvI2k0",
        "outputId": "4650e553-7dd2-4212-f035-cb5036d80d47"
      },
      "execution_count": 3,
      "outputs": [
        {
          "output_type": "execute_result",
          "data": {
            "text/plain": [
              "<torch._C.Generator at 0x7d2a147319d0>"
            ]
          },
          "metadata": {},
          "execution_count": 3
        }
      ]
    },
    {
      "cell_type": "code",
      "source": [
        "# wget https://raw.githubusercontent.com/karpathy/char-rnn/master/data/tinyshakespeare/input.txt\n",
        "with open('input.txt', 'r', encoding='utf-8') as f:\n",
        "    text = f.read()"
      ],
      "metadata": {
        "id": "_8gEQrwhI66C"
      },
      "execution_count": 4,
      "outputs": []
    },
    {
      "cell_type": "code",
      "source": [
        "# here are all the unique characters that occur in this text\n",
        "chars = sorted(list(set(text)))\n",
        "vocab_size = len(chars)"
      ],
      "metadata": {
        "id": "YgZx53fqJT2x"
      },
      "execution_count": 5,
      "outputs": []
    },
    {
      "cell_type": "code",
      "source": [
        "# create a mapping from characters to integers\n",
        "stoi = { ch:i for i,ch in enumerate(chars) }\n",
        "itos = { i:ch for i,ch in enumerate(chars) }"
      ],
      "metadata": {
        "id": "7CVIpA7ZJYhK"
      },
      "execution_count": 6,
      "outputs": []
    },
    {
      "cell_type": "code",
      "source": [
        "encode = lambda s: [stoi[c] for c in s] # encoder: take a string, output a list of integers\n",
        "decode = lambda l: ''.join([itos[i] for i in l]) # decoder: take a list of integers, output a string"
      ],
      "metadata": {
        "id": "XIJDRT4DJbZf"
      },
      "execution_count": 7,
      "outputs": []
    },
    {
      "cell_type": "code",
      "source": [
        "# Train and test splits\n",
        "data = torch.tensor(encode(text), dtype=torch.long)\n",
        "n = int(0.9*len(data)) # first 90% will be train, rest val\n",
        "train_data = data[:n]\n",
        "val_data = data[n:]"
      ],
      "metadata": {
        "id": "9beTWj-lJeLS"
      },
      "execution_count": 8,
      "outputs": []
    },
    {
      "cell_type": "code",
      "source": [
        "# data loading\n",
        "def get_batch(split):\n",
        "    # generate a small batch of data of inputs x and targets y\n",
        "    data = train_data if split == 'train' else val_data\n",
        "    ix = torch.randint(len(data) - block_size, (batch_size,))\n",
        "    x = torch.stack([data[i:i+block_size] for i in ix])\n",
        "    y = torch.stack([data[i+1:i+block_size+1] for i in ix])\n",
        "    x, y = x.to(device), y.to(device)\n",
        "    return x, y"
      ],
      "metadata": {
        "id": "oJX9uSCmJghV"
      },
      "execution_count": 9,
      "outputs": []
    },
    {
      "cell_type": "code",
      "source": [
        "@torch.no_grad()\n",
        "def estimate_loss():\n",
        "    out = {}\n",
        "    model.eval()\n",
        "    for split in ['train', 'val']:\n",
        "        losses = torch.zeros(eval_iters)\n",
        "        for k in range(eval_iters):\n",
        "            X, Y = get_batch(split)\n",
        "            logits, loss = model(X, Y)\n",
        "            losses[k] = loss.item()\n",
        "        out[split] = losses.mean()\n",
        "    model.train()\n",
        "    return out"
      ],
      "metadata": {
        "id": "9nkEfWtBJj-f"
      },
      "execution_count": 10,
      "outputs": []
    },
    {
      "cell_type": "code",
      "source": [
        "class Head(nn.Module):\n",
        "    \"\"\" one head of self-attention \"\"\"\n",
        "\n",
        "    def __init__(self, head_size):\n",
        "        super().__init__()\n",
        "        self.key = nn.Linear(n_embd, head_size, bias=False)\n",
        "        self.query = nn.Linear(n_embd, head_size, bias=False)\n",
        "        self.value = nn.Linear(n_embd, head_size, bias=False)\n",
        "        self.register_buffer('tril', torch.tril(torch.ones(block_size, block_size)))\n",
        "\n",
        "        self.dropout = nn.Dropout(dropout)\n",
        "\n",
        "    def forward(self, x):\n",
        "        B,T,C = x.shape\n",
        "        k = self.key(x)   # (B,T,C)\n",
        "        q = self.query(x) # (B,T,C)\n",
        "        # compute attention scores (\"affinities\")\n",
        "        wei = q @ k.transpose(-2,-1) * C**-0.5 # (B, T, C) @ (B, C, T) -> (B, T, T)\n",
        "        wei = wei.masked_fill(self.tril[:T, :T] == 0, float('-inf')) # (B, T, T)\n",
        "        wei = F.softmax(wei, dim=-1) # (B, T, T)\n",
        "        wei = self.dropout(wei)\n",
        "        # perform the weighted aggregation of the values\n",
        "        v = self.value(x) # (B,T,C)\n",
        "        out = wei @ v # (B, T, T) @ (B, T, C) -> (B, T, C)\n",
        "        return out"
      ],
      "metadata": {
        "id": "_TBRJ5-uJnJc"
      },
      "execution_count": 11,
      "outputs": []
    },
    {
      "cell_type": "code",
      "source": [
        "class MultiHeadAttention(nn.Module):\n",
        "    \"\"\" multiple heads of self-attention in parallel \"\"\"\n",
        "\n",
        "    def __init__(self, num_heads, head_size):\n",
        "        super().__init__()\n",
        "        self.heads = nn.ModuleList([Head(head_size) for _ in range(num_heads)])\n",
        "        self.proj = nn.Linear(n_embd, n_embd)\n",
        "        self.dropout = nn.Dropout(dropout)\n",
        "\n",
        "    def forward(self, x):\n",
        "        out = torch.cat([h(x) for h in self.heads], dim=-1)\n",
        "        out = self.dropout(self.proj(out))\n",
        "        return out"
      ],
      "metadata": {
        "id": "8G6yAhPNJrgS"
      },
      "execution_count": 12,
      "outputs": []
    },
    {
      "cell_type": "code",
      "source": [
        "class FeedFoward(nn.Module):\n",
        "    \"\"\" a simple linear layer followed by a non-linearity \"\"\"\n",
        "\n",
        "    def __init__(self, n_embd):\n",
        "        super().__init__()\n",
        "        self.net = nn.Sequential(\n",
        "            nn.Linear(n_embd, 4 * n_embd),\n",
        "            nn.ReLU(),\n",
        "            nn.Linear(4 * n_embd, n_embd),\n",
        "            nn.Dropout(dropout),\n",
        "        )\n",
        "\n",
        "    def forward(self, x):\n",
        "        return self.net(x)"
      ],
      "metadata": {
        "id": "fXQhcvSUJt2i"
      },
      "execution_count": 13,
      "outputs": []
    },
    {
      "cell_type": "code",
      "source": [
        "class Block(nn.Module):\n",
        "    \"\"\" Transformer block: communication followed by computation \"\"\"\n",
        "\n",
        "    def __init__(self, n_embd, n_head):\n",
        "        # n_embd: embedding dimension, n_head: the number of heads we'd like\n",
        "        super().__init__()\n",
        "        head_size = n_embd // n_head\n",
        "        self.sa = MultiHeadAttention(n_head, head_size)\n",
        "        self.ffwd = FeedFoward(n_embd)\n",
        "        self.ln1 = nn.LayerNorm(n_embd)\n",
        "        self.ln2 = nn.LayerNorm(n_embd)\n",
        "\n",
        "    def forward(self, x):\n",
        "        x = x + self.sa(self.ln1(x))\n",
        "        x = x + self.ffwd(self.ln2(x))\n",
        "        return x"
      ],
      "metadata": {
        "id": "36M6mqOjJwW9"
      },
      "execution_count": 14,
      "outputs": []
    },
    {
      "cell_type": "code",
      "source": [
        "# super simple bigram model\n",
        "class BigramLanguageModel(nn.Module):\n",
        "\n",
        "    def __init__(self):\n",
        "        super().__init__()\n",
        "        # each token directly reads off the logits for the next token from a lookup table\n",
        "        self.token_embedding_table = nn.Embedding(vocab_size, n_embd)\n",
        "        self.position_embedding_table = nn.Embedding(block_size, n_embd)\n",
        "        self.blocks = nn.Sequential(*[Block(n_embd, n_head=n_head) for _ in range(n_layer)])\n",
        "        self.ln_f = nn.LayerNorm(n_embd) # final layer norm\n",
        "        self.lm_head = nn.Linear(n_embd, vocab_size)\n",
        "\n",
        "    def forward(self, idx, targets=None):\n",
        "        B, T = idx.shape\n",
        "\n",
        "        # idx and targets are both (B,T) tensor of integers\n",
        "        tok_emb = self.token_embedding_table(idx) # (B,T,C)\n",
        "        pos_emb = self.position_embedding_table(torch.arange(T, device=device)) # (T,C)\n",
        "        x = tok_emb + pos_emb # (B,T,C)\n",
        "        x = self.blocks(x) # (B,T,C)\n",
        "        x = self.ln_f(x) # (B,T,C)\n",
        "        logits = self.lm_head(x) # (B,T,vocab_size)\n",
        "\n",
        "        if targets is None:\n",
        "            loss = None\n",
        "        else:\n",
        "            B, T, C = logits.shape\n",
        "            logits = logits.view(B*T, C)\n",
        "            targets = targets.view(B*T)\n",
        "            loss = F.cross_entropy(logits, targets)\n",
        "\n",
        "        return logits, loss\n",
        "\n",
        "    def generate(self, idx, max_new_tokens):\n",
        "        # idx is (B, T) array of indices in the current context\n",
        "        for _ in range(max_new_tokens):\n",
        "            # crop idx to the last block_size tokens\n",
        "            idx_cond = idx[:, -block_size:]\n",
        "            # get the predictions\n",
        "            logits, loss = self(idx_cond)\n",
        "            # focus only on the last time step\n",
        "            logits = logits[:, -1, :] # becomes (B, C)\n",
        "            # apply softmax to get probabilities\n",
        "            probs = F.softmax(logits, dim=-1) # (B, C)\n",
        "            # sample from the distribution\n",
        "            idx_next = torch.multinomial(probs, num_samples=1) # (B, 1)\n",
        "            # append sampled index to the running sequence\n",
        "            idx = torch.cat((idx, idx_next), dim=1) # (B, T+1)\n",
        "        return idx"
      ],
      "metadata": {
        "id": "XuDwcpIMJzBo"
      },
      "execution_count": 15,
      "outputs": []
    },
    {
      "cell_type": "code",
      "source": [
        "model = BigramLanguageModel()\n",
        "m = model.to(device)\n",
        "# print the number of parameters in the model\n",
        "print(sum(p.numel() for p in m.parameters())/1e6, 'M parameters')\n"
      ],
      "metadata": {
        "colab": {
          "base_uri": "https://localhost:8080/"
        },
        "id": "rC_5qFMfJ37A",
        "outputId": "4bba5643-2553-4529-f6a6-fc4073182c5c"
      },
      "execution_count": 16,
      "outputs": [
        {
          "output_type": "stream",
          "name": "stdout",
          "text": [
            "0.209729 M parameters\n"
          ]
        }
      ]
    },
    {
      "cell_type": "code",
      "source": [
        "# create a PyTorch optimizer\n",
        "optimizer = torch.optim.AdamW(model.parameters(), lr=learning_rate)\n",
        "\n",
        "for iter in range(max_iters):\n",
        "\n",
        "    # every once in a while evaluate the loss on train and val sets\n",
        "    if iter % eval_interval == 0 or iter == max_iters - 1:\n",
        "        losses = estimate_loss()\n",
        "        print(f\"step {iter}: train loss {losses['train']:.4f}, val loss {losses['val']:.4f}\")\n",
        "\n",
        "    # sample a batch of data\n",
        "    xb, yb = get_batch('train')\n",
        "\n",
        "    # evaluate the loss\n",
        "    logits, loss = model(xb, yb)\n",
        "    optimizer.zero_grad(set_to_none=True)\n",
        "    loss.backward()\n",
        "    optimizer.step()"
      ],
      "metadata": {
        "colab": {
          "base_uri": "https://localhost:8080/"
        },
        "id": "FJBbC4DuJ_Az",
        "outputId": "8dbe6386-8cda-4cc7-cf0d-e1ffb06e1370"
      },
      "execution_count": 22,
      "outputs": [
        {
          "output_type": "stream",
          "name": "stdout",
          "text": [
            "step 0: train loss 2.1996, val loss 2.2151\n",
            "step 100: train loss 2.1584, val loss 2.1839\n",
            "step 200: train loss 2.1293, val loss 2.1527\n",
            "step 300: train loss 2.1041, val loss 2.1517\n",
            "step 400: train loss 2.0852, val loss 2.1156\n",
            "step 500: train loss 2.0673, val loss 2.0968\n",
            "step 600: train loss 2.0345, val loss 2.0671\n",
            "step 700: train loss 2.0091, val loss 2.0617\n",
            "step 800: train loss 1.9953, val loss 2.0593\n",
            "step 900: train loss 1.9770, val loss 2.0326\n",
            "step 1000: train loss 1.9405, val loss 2.0218\n",
            "step 1100: train loss 1.9291, val loss 2.0032\n",
            "step 1200: train loss 1.9136, val loss 2.0115\n",
            "step 1300: train loss 1.9020, val loss 2.0007\n",
            "step 1400: train loss 1.8973, val loss 1.9857\n",
            "step 1500: train loss 1.8780, val loss 1.9794\n",
            "step 1600: train loss 1.8769, val loss 1.9776\n",
            "step 1700: train loss 1.8473, val loss 1.9622\n",
            "step 1800: train loss 1.8480, val loss 1.9565\n",
            "step 1900: train loss 1.8295, val loss 1.9500\n",
            "step 2000: train loss 1.8291, val loss 1.9480\n",
            "step 2100: train loss 1.8250, val loss 1.9480\n",
            "step 2200: train loss 1.8091, val loss 1.9351\n",
            "step 2300: train loss 1.7909, val loss 1.9387\n",
            "step 2400: train loss 1.7868, val loss 1.9228\n",
            "step 2500: train loss 1.7783, val loss 1.9246\n",
            "step 2600: train loss 1.7747, val loss 1.9176\n",
            "step 2700: train loss 1.7680, val loss 1.9206\n",
            "step 2800: train loss 1.7426, val loss 1.8973\n",
            "step 2900: train loss 1.7466, val loss 1.9088\n",
            "step 3000: train loss 1.7396, val loss 1.9078\n",
            "step 3100: train loss 1.7400, val loss 1.8908\n",
            "step 3200: train loss 1.7268, val loss 1.8903\n",
            "step 3300: train loss 1.7329, val loss 1.8961\n",
            "step 3400: train loss 1.7230, val loss 1.8914\n",
            "step 3500: train loss 1.7277, val loss 1.8712\n",
            "step 3600: train loss 1.7200, val loss 1.8737\n",
            "step 3700: train loss 1.7123, val loss 1.8722\n",
            "step 3800: train loss 1.7121, val loss 1.8601\n",
            "step 3900: train loss 1.7042, val loss 1.8602\n",
            "step 4000: train loss 1.6817, val loss 1.8486\n",
            "step 4100: train loss 1.6846, val loss 1.8596\n",
            "step 4200: train loss 1.6884, val loss 1.8525\n",
            "step 4300: train loss 1.6897, val loss 1.8544\n",
            "step 4400: train loss 1.6780, val loss 1.8489\n",
            "step 4500: train loss 1.6776, val loss 1.8287\n",
            "step 4600: train loss 1.6733, val loss 1.8394\n",
            "step 4700: train loss 1.6685, val loss 1.8245\n",
            "step 4800: train loss 1.6723, val loss 1.8278\n",
            "step 4900: train loss 1.6680, val loss 1.8157\n",
            "step 5000: train loss 1.6629, val loss 1.8210\n",
            "step 5100: train loss 1.6671, val loss 1.8317\n",
            "step 5200: train loss 1.6539, val loss 1.8300\n",
            "step 5300: train loss 1.6495, val loss 1.8012\n",
            "step 5400: train loss 1.6596, val loss 1.8176\n",
            "step 5500: train loss 1.6498, val loss 1.8236\n",
            "step 5600: train loss 1.6389, val loss 1.8233\n",
            "step 5700: train loss 1.6423, val loss 1.8030\n",
            "step 5800: train loss 1.6440, val loss 1.8048\n",
            "step 5900: train loss 1.6355, val loss 1.8128\n",
            "step 6000: train loss 1.6359, val loss 1.8030\n",
            "step 6100: train loss 1.6392, val loss 1.8069\n",
            "step 6200: train loss 1.6261, val loss 1.8014\n",
            "step 6300: train loss 1.6357, val loss 1.7961\n",
            "step 6400: train loss 1.6191, val loss 1.8065\n",
            "step 6500: train loss 1.6227, val loss 1.7885\n",
            "step 6600: train loss 1.6189, val loss 1.8079\n",
            "step 6700: train loss 1.6079, val loss 1.8103\n",
            "step 6800: train loss 1.6192, val loss 1.8009\n",
            "step 6900: train loss 1.6098, val loss 1.7882\n",
            "step 6999: train loss 1.6190, val loss 1.7841\n"
          ]
        }
      ]
    },
    {
      "cell_type": "code",
      "source": [
        "# generate from the model\n",
        "context = torch.zeros((1, 1), dtype=torch.long, device=device)\n",
        "print(decode(m.generate(context, max_new_tokens=2000)[0].tolist()))"
      ],
      "metadata": {
        "colab": {
          "base_uri": "https://localhost:8080/"
        },
        "id": "k3XAtt0dKCeS",
        "outputId": "f0cf4d5c-fbf0-44c8-ba68-03c461f0a690"
      },
      "execution_count": 25,
      "outputs": [
        {
          "output_type": "stream",
          "name": "stdout",
          "text": [
            "\n",
            "DUKE VINCENTIO:\n",
            "\n",
            "BENVOLIO:\n",
            "This avon junce mouth and, the Rathary him honours.\n",
            "Wavice know or the nevise;\n",
            "But for the wake done lin all she comes'd for one,\n",
            "For his death passol. Prave I'ld,\n",
            "I eld so hearth an of word with what most honour were:\n",
            "For should with for then you not in this senswer your-abile on Murry:\n",
            "This time respatchred:\n",
            "Call a king the brother'd pitt.\n",
            "For he, then country Vicland and pringent.\n",
            "\n",
            "MENENIUS:\n",
            "No, night his king: and sand time the hrusbands,\n",
            "That fase How man all; where it time little!\n",
            "Have roband, all this not the\n",
            "blear your world. Soper, this that more\n",
            "As sold with like from my solds,\n",
            "In can to his kne; to the not what is else know it much boyn\n",
            "sugght the miswom thou hat? co, by fack,\n",
            "From my shall forgates\n",
            "Of with God thy wors.\n",
            "\n",
            "Fith God MIO:\n",
            "Conirmitates of hi\n",
            "Thou kneet, full sham! he breat sweet hate\n",
            "The is brother, we shoulds gravere wake you thy wop'ds man,\n",
            "Sharch is to Rrance, feverer not cumpentrantulmess thee;\n",
            "Sdense its; every priertpossed.\n",
            "\n",
            "KING EDWARD IV:\n",
            "Here chall be pany not barcious\n",
            "Back and down in forthinlys no tried,\n",
            "Unleises! As morne the bark from of which our pout, not more.\n",
            "\n",
            "ISABELLA:\n",
            "By in with priple an logging?\n",
            "\n",
            "First Are is trup those arm you more 't.\n",
            "And would: what spenser'd nothing thou lidy thou streeth,\n",
            "As worthy Touch herse, but cannot: succanst!\n",
            "\n",
            "KING EDWARD IV:\n",
            "He anry man; then where you\n",
            "Hath an phie no is therefore, and can anise.\n",
            "\n",
            "NORTHUMERSIO:\n",
            "Indone, now? Humas seek me this is oun thine,\n",
            "To harm thur gone nothing, but thist, for thou charld\n",
            "None thy lied think deping thou take they thou mark, did wask discature\n",
            "And his youth not to child Inly?\n",
            "\n",
            "HASlars\n",
            "WARWICK:\n",
            "Misone o'eld me of thy light cannothing beforleing man:\n",
            "Were words, I to have perceign. And let thou cark and confess,\n",
            "As I may truest.\n",
            "\n",
            "BATUS:\n",
            "For thou dowbst!\n",
            "\n",
            "HASTINGS:\n",
            "I'll in men the are undermy and\n",
            "Sdold: I mughth as queech.\n",
            "\n",
            "\n",
            "KING EDWARD IV:\n",
            "Shrow balk a well with alime.\n",
            "\n",
            "NORFOLK:\n",
            "Here wonds, packed takething were\n",
            "From doth a man non\n"
          ]
        }
      ]
    },
    {
      "cell_type": "code",
      "source": [
        "# Define the checkpoint dictionary\n",
        "checkpoint = {\n",
        "    \"model_state_dict\": m.state_dict(),\n",
        "    \"stoi\": stoi,\n",
        "    \"itos\": itos,\n",
        "    \"block_size\": block_size,\n",
        "    \"n_embd\": n_embd,\n",
        "    \"n_head\": n_head,\n",
        "    \"n_layer\": n_layer,\n",
        "    \"vocab_size\": vocab_size,\n",
        "}\n",
        "\n",
        "# Save to file\n",
        "torch.save(checkpoint, \"bigram_model.pth\")"
      ],
      "metadata": {
        "id": "q_qCaCq_NVL7"
      },
      "execution_count": 26,
      "outputs": []
    }
  ]
}